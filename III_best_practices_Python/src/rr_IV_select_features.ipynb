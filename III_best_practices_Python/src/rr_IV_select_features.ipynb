{
 "cells": [
  {
   "cell_type": "code",
   "execution_count": 1,
   "id": "2cfd9590-250a-4e2c-bee7-d3a4c6f384ab",
   "metadata": {},
   "outputs": [
    {
     "ename": "IndentationError",
     "evalue": "expected an indented block (Temp/ipykernel_12420/1710631959.py, line 11)",
     "output_type": "error",
     "traceback": [
      "\u001b[1;36m  File \u001b[1;32m\"C:\\Users\\kamil\\AppData\\Local\\Temp/ipykernel_12420/1710631959.py\"\u001b[1;36m, line \u001b[1;32m11\u001b[0m\n\u001b[1;33m    not_exog = [i for i in exogs if i != exog]\u001b[0m\n\u001b[1;37m    ^\u001b[0m\n\u001b[1;31mIndentationError\u001b[0m\u001b[1;31m:\u001b[0m expected an indented block\n"
     ]
    }
   ],
   "source": [
    "def feature_selection_vif(df, target, vif_tol=4):\n",
    "\n",
    "    ''' Conduct the automated feature selection using the Variance Inflation Factor values.\n",
    "\n",
    "    Input:\n",
    "    df (DataFrame): Dataframe with all features to be considered in feature selection.\n",
    "    target (string): Name of the target variable - we exclude it from feature selection process.\n",
    "    vif_tol (numeric): The VIF tolerance for the feature selection process - all variables having VIF above the vif_tol are excluded. Default value 4 - as in the original work . \n",
    "\n",
    "    Output:\n",
    "    List of features selected within the process.\n",
    "\n",
    "    Notes:\n",
    "    The function is based on the function provided in the StackOverflow thread.\n",
    "    Exact source: https://stackoverflow.com/questions/42658379/variance-inflation-factor-in-python Answer provided by user steven, on Feb 24, 2019 at 23:06.\n",
    "\n",
    "    Moreover, to access the predictor with the highest VIF from the dictionary, we used the code proposed here: https://note.nkmk.me/en/python-dict-get-key-from-value/\n",
    "    '''\n",
    "    \n",
    "    max_vif = 1000000 # set initial maximum VIF to be certainly above the vif_tol\n",
    "    predictors = df.columns[~df.columns.isin([target])].tolist() # get initial list of considered predictors - exclude the target variable\n",
    "    \n",
    "    while max_vif > vif_tol: # exclude the predictor with the highest VIF (max_vif) up to the point, where VIF for all predictors is below vif_tol\n",
    "         \n",
    "        vif_dict = {} # initialize dictionary with VIF values\n",
    "        \n",
    "        for predictor in predictors: # for each predictor calculate VIF by regressing a chosen predictor on the remaining ones\n",
    "            \n",
    "            not_predictor = [i for i in predictors if i != predictor]\n",
    "            X, y = df[not_predictor], df[predictor]\n",
    "\n",
    "            # extract r-squared from the fit\n",
    "            r_squared = LinearRegression().fit(X, y).score(X, y)\n",
    "\n",
    "            # calculate VIF\n",
    "            vif = 1/(1 - r_squared)\n",
    "            vif_dict[predictor] = vif\n",
    "        \n",
    "        max_vif = max(vif_dict.values()) # access the maximum VIF value\n",
    "        predictor_exclude = [k for k, v in vif_dict.items() if v == max_vif][0] # access the name of predictor with max_vif. Source of the method applied here: https://note.nkmk.me/en/python-dict-get-key-from-value/\n",
    "        \n",
    "        print(\"Variable {} excluded. VIF: {}\".format(predictor_exclude, round(max_vif,3)))\n",
    "        \n",
    "        # exclude the predictor with highest VIF\n",
    "        predictors.remove(predictor_exclude) \n",
    "        \n",
    "    # after the feature selection show the remaining features\n",
    "    print(\"\\n Feature selection done! Finally chosen predictors: \\n\")\n",
    "    print(predictors)\n",
    "    \n",
    "    return predictors"
   ]
  }
 ],
 "metadata": {
  "kernelspec": {
   "display_name": "Python 3 (ipykernel)",
   "language": "python",
   "name": "python3"
  },
  "language_info": {
   "codemirror_mode": {
    "name": "ipython",
    "version": 3
   },
   "file_extension": ".py",
   "mimetype": "text/x-python",
   "name": "python",
   "nbconvert_exporter": "python",
   "pygments_lexer": "ipython3",
   "version": "3.8.16"
  }
 },
 "nbformat": 4,
 "nbformat_minor": 5
}
