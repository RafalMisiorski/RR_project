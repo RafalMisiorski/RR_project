{
 "cells": [
  {
   "cell_type": "code",
   "execution_count": 5,
   "id": "2387e17e-1dee-4393-9b25-dd12705de522",
   "metadata": {},
   "outputs": [],
   "source": [
    "def read_data():\n",
    "    \n",
    "    ''' A simple function to read the original dataset from csv to pandas DataFrame.\n",
    "\n",
    "    Output:\n",
    "    DataFrame with raw data\n",
    "    '''\n",
    "    \n",
    "    df = pd.read_csv('../data/energydata_complete.csv')\n",
    "    \n",
    "    return df"
   ]
  },
  {
   "cell_type": "code",
   "execution_count": 1,
   "id": "f7761802-1d90-4806-be17-ec0376ded620",
   "metadata": {},
   "outputs": [],
   "source": [
    "def prepare_data(df):\n",
    "\n",
    "    ''' Prepare the data for further analysis - conduct feature engineering and remove irrelevant columns.\n",
    "\n",
    "    Input:\n",
    "    df (DataFrame): Dataframe with raw dataset to be modified.\n",
    "\n",
    "    Output:\n",
    "    Dataframe ready for further analysis (further EDA / feature selection).\n",
    "    '''\n",
    "    \n",
    "    # first we have to convert the date from object to datetime - in R it is originally a datetime format\n",
    "    df['date'] = pd.to_datetime(df['date'])\n",
    "\n",
    "    # prepare variables concerning datetime (relevant)\n",
    "    df['month'] = df['date'].dt.month     \n",
    "    df['day'] = df['date'].dt.day     \n",
    "    df['hour'] = df['date'].dt.hour     \n",
    "    df['minute'] = df['date'].dt.minute\n",
    "    \n",
    "    # extract weekday \n",
    "    df['day_of_week'] = df['date'].dt.dayofweek\n",
    "\n",
    "    # create the variable concerning time of the day using information about the hour\n",
    "    # 1 - morning, 2 - afternoon, 3 - evening\n",
    "    condlist_ = [(df['hour'] >= 6)  &  (df['hour']  < 12), \n",
    "             (df['hour']) >= 12 &  (df['hour']  < 18)]\n",
    "\n",
    "    choicelist_ = [1, 2]\n",
    "\n",
    "    df['time_of_day'] = np.select(condlist_, choicelist_, default=3)\n",
    "    \n",
    "    # exclude irrelevant columns\n",
    "    df.drop(columns=['date', 'rv1', 'rv2'], inplace=True)\n",
    "\n",
    "    return df"
   ]
  }
 ],
 "metadata": {
  "kernelspec": {
   "display_name": "Python 3 (ipykernel)",
   "language": "python",
   "name": "python3"
  },
  "language_info": {
   "codemirror_mode": {
    "name": "ipython",
    "version": 3
   },
   "file_extension": ".py",
   "mimetype": "text/x-python",
   "name": "python",
   "nbconvert_exporter": "python",
   "pygments_lexer": "ipython3",
   "version": "3.8.16"
  }
 },
 "nbformat": 4,
 "nbformat_minor": 5
}
